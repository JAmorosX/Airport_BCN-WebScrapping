{
 "cells": [
  {
   "cell_type": "code",
   "execution_count": 1,
   "metadata": {},
   "outputs": [
    {
     "data": {
      "text/plain": [
       "'https://www.barcelona-airport.com/eng/arrivals.php'"
      ]
     },
     "execution_count": 1,
     "metadata": {},
     "output_type": "execute_result"
    }
   ],
   "source": [
    "# Importem llibreries\n",
    "import requests\n",
    "import pandas as pd\n",
    "from bs4 import BeautifulSoup\n",
    "\n",
    "\n",
    "# Definim la url en la que fer la lectura\n",
    "root_url = \"https://www.barcelona-airport.com\"\n",
    "arrivals = \"/eng/arrivals.php\"\n",
    "url = root_url + arrivals\n"
   ]
  },
  {
   "cell_type": "code",
   "execution_count": 2,
   "metadata": {},
   "outputs": [],
   "source": [
    "# Trobem els enllaços de cada vol a la url examinada\n",
    "page = requests.get(url)\n",
    "soup = BeautifulSoup(page.content)\n",
    "fnum = soup.find_all(id=\"fnum\")\n",
    "links = []\n",
    "for fn in fnum[2:]:\n",
    "    a = fn.find('a')\n",
    "    link = str(a['href'])\n",
    "    links.append(link)\n"
   ]
  },
  {
   "cell_type": "code",
   "execution_count": 79,
   "metadata": {},
   "outputs": [],
   "source": [
    "# Creem un llistat en blanc. \n",
    "flights  = []\n",
    "\n",
    "# Per a cada enllaç entrem i busquem els valors dins la pàgina per obtenir les dades desitjades de cada vol\n",
    "for link in links:\n",
    "    \n",
    "    URL = root_url + link\n",
    "    Page = requests.get(URL)\n",
    "    Soup = BeautifulSoup(Page.content)\n",
    "    \n",
    "    codecomp0 = Soup.find(id=\"flight_header2\")\n",
    "    if codecomp0 is None:\n",
    "        codecomp = Soup.find(id=\"flight_info\").h2.get_text()\n",
    "        status   = Soup.find(id=\"flight_info\").h2.parent.find_next_sibling().h2.get_text()\n",
    "    else:\n",
    "        codecomp = codecomp0.get_text()\n",
    "        status   = codecomp0.parent.find_next_sibling().h2.get_text()\n",
    "    code     = codecomp[:codecomp.find('(')-1].replace(\" \", \"\")\n",
    "    company  = codecomp[(codecomp.find('(')+1):(len(codecomp)-1)]\n",
    "\n",
    "    origin   = Soup.find(id='flight_dep').h3.get_text()\n",
    "    Dep      = Soup.find(id='flight_dep').get_text()\n",
    "    first_app  = Dep.find(\"Date: \")+6\n",
    "    second_app = Dep.find(\":\", first_app)+1\n",
    "    third_app  = Dep.find(\":\", second_app)+1\n",
    "    fourth_app = Dep.find(\":\", third_app)+1\n",
    "    fifth_app  = Dep.find(\":\", fourth_app)\n",
    "    depDate  = Dep[first_app:first_app+10].strip().replace(\" \",\"\")\n",
    "    depTime  = Dep[second_app:third_app+2].strip().replace(\" \",\"\")\n",
    "    sDepTime = Dep[fourth_app:Dep.find(\"Terminal:\")].strip().replace(\" \",\"\")\n",
    "    depTerm  = Dep[Dep.find(\"Terminal: \")+10:Dep.find(\"Gate:\")].strip().replace(\" \",\"\")\n",
    "    depGate  = Dep[Dep.find(\"Gate:\")+6:].strip().replace(\" \",\"\")\n",
    "\n",
    "    destin   = Soup.find(id='flight_arr').h3.get_text()\n",
    "    Arr      = Soup.find(id='flight_arr').get_text()\n",
    "    first_app  = Arr.find(\"Date: \")+6\n",
    "    second_app = Arr.find(\":\", first_app)+1\n",
    "    third_app  = Arr.find(\":\", second_app)+1\n",
    "    fourth_app = Arr.find(\":\", third_app)+1\n",
    "    fifth_app  = Arr.find(\":\", fourth_app)+1\n",
    "    \n",
    "    arrDate  = Arr[first_app:first_app+10].strip().replace(\" \",\"\")\n",
    "    arrTime  = Arr[second_app:third_app+2].strip().replace(\" \",\"\")\n",
    "    sArrTime = Arr[fourth_app:fifth_app+2].strip().replace(\" \",\"\")\n",
    "    \n",
    "    arrTerm  = Arr[Arr.find(\"Terminal:\")+10:Arr.find(\"Gate:\")].strip().replace(\" \",\"\")\n",
    "    arrGate  = Arr[Arr.find(\"Gate:\")+6:Arr.find(\"Gate:\")+10].strip().replace(\" \",\"\")\n",
    "    plane    = str(Soup.find(id='flight_other'))\n",
    "    plane    = plane[plane.find('Plane:')+6:].strip()\n",
    "    if \"<br\" in plane:\n",
    "        plane = plane[:plane.find(\"<br\")].strip()\n",
    "    if \"</d\" in plane:\n",
    "        plane = plane[:plane.find(\"</d\")].strip()\n",
    "\n",
    "    # Cada valor extret passa a formar part d'una tupla\n",
    "    flight = (URL, code, company, status, plane,\n",
    "              origin, depDate, depTime, sDepTime, depTerm, depGate,\n",
    "              destin, arrDate, arrTime, sArrTime, arrTerm, arrGate)\n",
    "    \n",
    "    # Unim totes les tuples en la llista que s'ha inicialitzat al abans del loop\n",
    "    flights.append(flight)\n",
    "\n",
    "    "
   ]
  },
  {
   "cell_type": "code",
   "execution_count": 83,
   "metadata": {},
   "outputs": [],
   "source": [
    "# Indiquem els noms de les columnes del nostre dataset\n",
    "columns = ['link', 'code', 'company', 'status', 'plane', 'origin', 'depDate', 'depTime', 'sDepTime', 'depTerm', 'depGate',\n",
    "              'destin', 'arrDate', 'arrTime', 'sArrTime', 'arrTerm', 'arrGate']\n",
    "\n",
    "# El transformeme en un dataframe i l'exportem en format CSV\n",
    "data = pd.DataFrame(flights, columns = columns)\n",
    "data.to_csv('prova.csv', index = False)"
   ]
  }
 ],
 "metadata": {
  "kernelspec": {
   "display_name": "Python 3",
   "language": "python",
   "name": "python3"
  },
  "language_info": {
   "codemirror_mode": {
    "name": "ipython",
    "version": 3
   },
   "file_extension": ".py",
   "mimetype": "text/x-python",
   "name": "python",
   "nbconvert_exporter": "python",
   "pygments_lexer": "ipython3",
   "version": "3.6.8"
  }
 },
 "nbformat": 4,
 "nbformat_minor": 2
}
